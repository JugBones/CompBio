{
  "cells": [
    {
      "cell_type": "code",
      "source": [
        "!pip install biopython dendropy ete3 numpy seaborn matplotlib scikit-learn"
      ],
      "metadata": {
        "id": "oeLakv96OsRs",
        "colab": {
          "base_uri": "https://localhost:8080/"
        },
        "outputId": "dc00d98a-4007-40c8-b9d4-0afce598f3e0"
      },
      "execution_count": null,
      "outputs": [
        {
          "output_type": "stream",
          "name": "stdout",
          "text": [
            "Requirement already satisfied: biopython in /usr/local/lib/python3.10/dist-packages (1.81)\n",
            "Requirement already satisfied: dendropy in /usr/local/lib/python3.10/dist-packages (4.6.1)\n",
            "Requirement already satisfied: ete3 in /usr/local/lib/python3.10/dist-packages (3.1.3)\n",
            "Requirement already satisfied: numpy in /usr/local/lib/python3.10/dist-packages (1.23.5)\n",
            "Requirement already satisfied: seaborn in /usr/local/lib/python3.10/dist-packages (0.12.2)\n",
            "Requirement already satisfied: matplotlib in /usr/local/lib/python3.10/dist-packages (3.7.1)\n",
            "Requirement already satisfied: scikit-learn in /usr/local/lib/python3.10/dist-packages (1.2.2)\n",
            "Requirement already satisfied: setuptools in /usr/local/lib/python3.10/dist-packages (from dendropy) (67.7.2)\n",
            "Requirement already satisfied: pandas>=0.25 in /usr/local/lib/python3.10/dist-packages (from seaborn) (1.5.3)\n",
            "Requirement already satisfied: contourpy>=1.0.1 in /usr/local/lib/python3.10/dist-packages (from matplotlib) (1.2.0)\n",
            "Requirement already satisfied: cycler>=0.10 in /usr/local/lib/python3.10/dist-packages (from matplotlib) (0.12.1)\n",
            "Requirement already satisfied: fonttools>=4.22.0 in /usr/local/lib/python3.10/dist-packages (from matplotlib) (4.46.0)\n",
            "Requirement already satisfied: kiwisolver>=1.0.1 in /usr/local/lib/python3.10/dist-packages (from matplotlib) (1.4.5)\n",
            "Requirement already satisfied: packaging>=20.0 in /usr/local/lib/python3.10/dist-packages (from matplotlib) (23.2)\n",
            "Requirement already satisfied: pillow>=6.2.0 in /usr/local/lib/python3.10/dist-packages (from matplotlib) (9.4.0)\n",
            "Requirement already satisfied: pyparsing>=2.3.1 in /usr/local/lib/python3.10/dist-packages (from matplotlib) (3.1.1)\n",
            "Requirement already satisfied: python-dateutil>=2.7 in /usr/local/lib/python3.10/dist-packages (from matplotlib) (2.8.2)\n",
            "Requirement already satisfied: scipy>=1.3.2 in /usr/local/lib/python3.10/dist-packages (from scikit-learn) (1.11.4)\n",
            "Requirement already satisfied: joblib>=1.1.1 in /usr/local/lib/python3.10/dist-packages (from scikit-learn) (1.3.2)\n",
            "Requirement already satisfied: threadpoolctl>=2.0.0 in /usr/local/lib/python3.10/dist-packages (from scikit-learn) (3.2.0)\n",
            "Requirement already satisfied: pytz>=2020.1 in /usr/local/lib/python3.10/dist-packages (from pandas>=0.25->seaborn) (2023.3.post1)\n",
            "Requirement already satisfied: six>=1.5 in /usr/local/lib/python3.10/dist-packages (from python-dateutil>=2.7->matplotlib) (1.16.0)\n"
          ]
        }
      ]
    },
    {
      "cell_type": "code",
      "source": [
        "from Bio import SeqIO\n",
        "from Bio import AlignIO\n",
        "from Bio import Phylo\n",
        "from Bio.Phylo.TreeConstruction import DistanceCalculator, DistanceTreeConstructor\n",
        "from Bio.Phylo.TreeConstruction import _Matrix\n",
        "from Bio.Phylo.TreeConstruction import DistanceTreeConstructor\n",
        "from Bio.Phylo.TreeConstruction import DistanceCalculator\n",
        "from Bio.Phylo.TreeConstruction import ParsimonyScorer\n",
        "from Bio.Phylo.TreeConstruction import ParsimonyTreeConstructor\n",
        "import matplotlib.pyplot as plt\n",
        "import tracemalloc\n",
        "import time\n",
        "from io import StringIO\n",
        "import requests"
      ],
      "metadata": {
        "id": "LZ8P2ncoOmQR"
      },
      "execution_count": null,
      "outputs": []
    },
    {
      "cell_type": "code",
      "source": [
        "def rename_sequences(sequences, ids):\n",
        "    for seq, seq_id in zip(sequences, ids):\n",
        "        seq.id = seq_id\n",
        "\n",
        "# # Import sequences\n",
        "# t1 = SeqIO.read(\"albanian.fasta\", \"fasta\")\n",
        "# t2 = SeqIO.read(\"easterngf.fasta\", \"fasta\")\n",
        "# t3 = SeqIO.read(\"marshfrog.fasta\", \"fasta\")\n",
        "# t4 = SeqIO.read(\"poolfrog.fasta\", \"fasta\")\n",
        "# t5 = SeqIO.read(\"saharafrog.fasta\", \"fasta\")\n",
        "\n",
        "#Read raw data from Github Repository\n",
        "albanian_url = 'https://raw.githubusercontent.com/Gitroars/ComputationalBiology_FinalProject/main/albanian.fasta'\n",
        "easterngf_url = 'https://raw.githubusercontent.com/Gitroars/ComputationalBiology_FinalProject/main/easterngf.fasta'\n",
        "marshfrog_url = 'https://raw.githubusercontent.com/Gitroars/ComputationalBiology_FinalProject/main/marshfrog.fasta'\n",
        "poolfrog_url = 'https://raw.githubusercontent.com/Gitroars/ComputationalBiology_FinalProject/main/poolfrog.fasta'\n",
        "saharafrog_url = 'https://raw.githubusercontent.com/Gitroars/ComputationalBiology_FinalProject/main/saharafrog.fasta'\n",
        "waterfrog_url = 'https://raw.githubusercontent.com/Gitroars/ComputationalBiology_FinalProject/main/waterfrog.aln'\n",
        "waterfrog_edited_url = 'https://raw.githubusercontent.com/Gitroars/ComputationalBiology_FinalProject/main/waterfrog_edited.nex'\n",
        "\n",
        "albanian_fasta_data = requests.get(albanian_url).text\n",
        "easterngf_fasta_data = requests.get(easterngf_url).text\n",
        "marshfrog_fasta_data = requests.get(marshfrog_url).text\n",
        "poolfrog_fasta_data = requests.get(poolfrog_url).text\n",
        "saharafrog_fasta_data = requests.get(saharafrog_url).text\n",
        "waterfrog_aln_data = requests.get(waterfrog_url).text\n",
        "waterfrog_edited_data = requests.get(waterfrog_edited_url).text\n",
        "\n",
        "# Create file-like objects using StringIO\n",
        "albanian_file = StringIO(albanian_fasta_data)\n",
        "easterngf_file = StringIO(easterngf_fasta_data)\n",
        "marshfrog_file = StringIO(marshfrog_fasta_data)\n",
        "poolfrog_file = StringIO(poolfrog_fasta_data)\n",
        "saharafrog_file = StringIO(saharafrog_fasta_data)\n",
        "waterfrog_aln_file = StringIO(waterfrog_aln_data)\n",
        "waterfrog_edited_file = StringIO(waterfrog_edited_data)\n",
        "\n",
        "# Now, you can parse the file-like objects\n",
        "t1 = SeqIO.parse(albanian_file, 'fasta')\n",
        "t2 = SeqIO.parse(easterngf_file, 'fasta')\n",
        "t3 = SeqIO.parse(marshfrog_file, 'fasta')\n",
        "t4 = SeqIO.parse(poolfrog_file, 'fasta')\n",
        "t5 = SeqIO.parse(saharafrog_file, 'fasta')\n",
        "\n",
        "# Collect individual sequences\n",
        "sequences = []\n",
        "sequences.extend(t1)\n",
        "sequences.extend(t2)\n",
        "sequences.extend(t3)\n",
        "sequences.extend(t4)\n",
        "sequences.extend(t5)\n",
        "\n",
        "# Write all sequences to a new FASTA file\n",
        "SeqIO.write(sequences, \"waterfrogs.fasta\", \"fasta\")"
      ],
      "metadata": {
        "id": "VvlxLpI1Ca_i",
        "colab": {
          "base_uri": "https://localhost:8080/"
        },
        "outputId": "8a162135-7084-421e-f508-5d0e13bab8f6"
      },
      "execution_count": null,
      "outputs": [
        {
          "output_type": "execute_result",
          "data": {
            "text/plain": [
              "5"
            ]
          },
          "metadata": {},
          "execution_count": 20
        }
      ]
    },
    {
      "cell_type": "code",
      "source": [
        "import time\n",
        "import tracemalloc\n",
        "\n",
        "tracemalloc.start() #start counting the memory usage\n",
        "\n",
        "# # Load the water frog sequences into MUSCLE\n",
        "# # Open the alignment file as a MultipleSeqAlignment object\n",
        "# with open(\"waterfrog.aln\", \"r\") as aln:\n",
        "#     alignment = AlignIO.read(aln, \"clustal\")\n",
        "\n",
        "# Create a file-like object using StringIO\n",
        "alignment_file = StringIO(waterfrog_aln_data)\n",
        "\n",
        "# Read the alignment from the file-like object\n",
        "alignment = AlignIO.read(alignment_file, \"clustal\")\n",
        "\n",
        "# Calculate Distance Matrix\n",
        "calculator = DistanceCalculator(\"identity\")\n",
        "distance_matrix = calculator.get_distance(alignment)\n",
        "print(distance_matrix)\n",
        "\n",
        "# Measure time and memory usage\n",
        "start_time = time.time()\n",
        "\n",
        "# ML Tree Construction using Bio.Phylo\n",
        "upgma_constructor = DistanceTreeConstructor(calculator, 'upgma')\n",
        "upgma_tree = upgma_constructor.build_tree(alignment)\n",
        "\n",
        "# Measure time and memory usage\n",
        "end_time = time.time()\n",
        "\n",
        "print(f\"Time taken for Original UPGMA tree construction: {end_time - start_time} seconds\")\n",
        "print(\"Byte and peak: \",tracemalloc.get_traced_memory())\n",
        "\n",
        "tracemalloc.stop()\n",
        "\n",
        "# Save ML tree to a new file\n",
        "Phylo.write(upgma_tree, \"upgma_waterfrog_tree.xml\", \"phyloxml\")"
      ],
      "metadata": {
        "colab": {
          "base_uri": "https://localhost:8080/"
        },
        "id": "nHH33gw8Zb2T",
        "outputId": "7927e4a3-946c-4c1a-c419-bba543076960"
      },
      "execution_count": null,
      "outputs": [
        {
          "output_type": "stream",
          "name": "stdout",
          "text": [
            "Eastern 0.000000\n",
            "Sahara  0.598580    0.000000\n",
            "Marsh   0.600946    0.153785    0.000000\n",
            "Albanian    0.580442    0.167192    0.121451    0.000000\n",
            "Pool    0.585962    0.164038    0.119874    0.071767    0.000000\n",
            "    Eastern Sahara  Marsh   Albanian    Pool\n",
            "Time taken for Original UPGMA tree construction: 0.004087924957275391 seconds\n",
            "Byte and peak:  (484528, 1327458)\n"
          ]
        },
        {
          "output_type": "execute_result",
          "data": {
            "text/plain": [
              "1"
            ]
          },
          "metadata": {},
          "execution_count": 21
        }
      ]
    },
    {
      "cell_type": "code",
      "source": [
        "# Visualize ML tree\n",
        "fig, ax = plt.subplots(figsize=(15, 8), dpi=100)\n",
        "Phylo.draw(upgma_tree, axes=ax, do_show=False)\n",
        "\n",
        "# Add labels and customize layout\n",
        "ax.set_title(\"UPGMA Phylogenetic Tree\")\n",
        "ax.set_xlabel(\"Evolutionary Distance\")\n",
        "ax.set_ylabel(\"Species\")\n",
        "\n",
        "# Save the figure\n",
        "fig.savefig(\"upgma_waterfrog_phylogenetic_tree.png\")\n",
        "plt.show()"
      ],
      "metadata": {
        "colab": {
          "base_uri": "https://localhost:8080/",
          "height": 718
        },
        "id": "ODTn1528Cr6F",
        "outputId": "ca95f7b5-f773-493e-9a1f-e2f6a559614e"
      },
      "execution_count": null,
      "outputs": [
        {
          "output_type": "display_data",
          "data": {
            "text/plain": [
              "<Figure size 1500x800 with 1 Axes>"
            ],
            "image/png": "[encoded data removed]"
          },
          "metadata": {}
        }
      ]
    },
    {
      "cell_type": "code",
      "source": [
        "# from scipy.stats import kendalltau\n",
        "\n",
        "# # RF Distance Calculation\n",
        "# def robinson_foulds_distance(tree1, tree2):\n",
        "#     return kendalltau(tree1, tree2)[0]\n",
        "\n",
        "# # Reference tree\n",
        "# reference_tree = Phylo.read(\"nj_waterfrog_tree.xml\", \"phyloxml\")\n",
        "# OR\n",
        "# reference_tree = Phylo.read(\"nj_waterfrog_tree.newick\", \"newick\")\n",
        "\n",
        "# # Calculate RF distance\n",
        "# rf_distance = robinson_foulds_distance(reference_tree, ml_tree)\n",
        "# print(f\"Robinson-Foulds Distance: {rf_distance}\")\n"
      ],
      "metadata": {
        "id": "fmY6icnKCoDd"
      },
      "execution_count": null,
      "outputs": []
    },
    {
      "cell_type": "code",
      "source": [
        "# Convert the tree to a different format (optional)\n",
        "Phylo.convert(\"upgma_waterfrog_tree.xml\", \"phyloxml\", \"upgma-waterfrog_tree.nex\", \"nexus\")"
      ],
      "metadata": {
        "id": "rmX9X7x_led_",
        "colab": {
          "base_uri": "https://localhost:8080/"
        },
        "outputId": "bb62afce-e0a7-4f72-92d2-6defb1934235"
      },
      "execution_count": null,
      "outputs": [
        {
          "output_type": "execute_result",
          "data": {
            "text/plain": [
              "1"
            ]
          },
          "metadata": {},
          "execution_count": 24
        }
      ]
    },
    {
      "cell_type": "code",
      "source": [
        "import matplotlib\n",
        "frog_nex = Phylo.read(\"upgma-waterfrog_edited.nex\", \"nexus\")\n",
        "\n",
        "fig = plt.figure(figsize=(13, 5), dpi=100) # create figure & set the size\n",
        "matplotlib.rc('font', size=12)              # fontsize of the leaf and node labels\n",
        "matplotlib.rc('xtick', labelsize=10)       # fontsize of the tick labels\n",
        "matplotlib.rc('ytick', labelsize=10)       # fontsize of the tick labels\n",
        "axes = fig.add_subplot(1, 1, 1)\n",
        "Phylo.draw(frog_nex, axes=axes)\n",
        "fig.savefig(\"waterfrog2_cladogram\")"
      ],
      "metadata": {
        "id": "SeB0gWXHlfaI",
        "colab": {
          "base_uri": "https://localhost:8080/",
          "height": 391
        },
        "outputId": "d41a7a71-4c55-4ecf-e3d7-f592579dd07b"
      },
      "execution_count": null,
      "outputs": [
        {
          "output_type": "error",
          "ename": "FileNotFoundError",
          "evalue": "ignored",
          "traceback": [
            "\u001b[0;31m---------------------------------------------------------------------------\u001b[0m",
            "\u001b[0;31mFileNotFoundError\u001b[0m                         Traceback (most recent call last)",
            "\u001b[0;32m<ipython-input-25-e9cc9d9d5ee9>\u001b[0m in \u001b[0;36m<cell line: 2>\u001b[0;34m()\u001b[0m\n\u001b[1;32m      1\u001b[0m \u001b[0;32mimport\u001b[0m \u001b[0mmatplotlib\u001b[0m\u001b[0;34m\u001b[0m\u001b[0;34m\u001b[0m\u001b[0m\n\u001b[0;32m----> 2\u001b[0;31m \u001b[0mfrog_nex\u001b[0m \u001b[0;34m=\u001b[0m \u001b[0mPhylo\u001b[0m\u001b[0;34m.\u001b[0m\u001b[0mread\u001b[0m\u001b[0;34m(\u001b[0m\u001b[0;34m\"upgma-waterfrog_edited.nex\"\u001b[0m\u001b[0;34m,\u001b[0m \u001b[0;34m\"nexus\"\u001b[0m\u001b[0;34m)\u001b[0m\u001b[0;34m\u001b[0m\u001b[0;34m\u001b[0m\u001b[0m\n\u001b[0m\u001b[1;32m      3\u001b[0m \u001b[0;34m\u001b[0m\u001b[0m\n\u001b[1;32m      4\u001b[0m \u001b[0mfig\u001b[0m \u001b[0;34m=\u001b[0m \u001b[0mplt\u001b[0m\u001b[0;34m.\u001b[0m\u001b[0mfigure\u001b[0m\u001b[0;34m(\u001b[0m\u001b[0mfigsize\u001b[0m\u001b[0;34m=\u001b[0m\u001b[0;34m(\u001b[0m\u001b[0;36m13\u001b[0m\u001b[0;34m,\u001b[0m \u001b[0;36m5\u001b[0m\u001b[0;34m)\u001b[0m\u001b[0;34m,\u001b[0m \u001b[0mdpi\u001b[0m\u001b[0;34m=\u001b[0m\u001b[0;36m100\u001b[0m\u001b[0;34m)\u001b[0m \u001b[0;31m# create figure & set the size\u001b[0m\u001b[0;34m\u001b[0m\u001b[0;34m\u001b[0m\u001b[0m\n\u001b[1;32m      5\u001b[0m \u001b[0mmatplotlib\u001b[0m\u001b[0;34m.\u001b[0m\u001b[0mrc\u001b[0m\u001b[0;34m(\u001b[0m\u001b[0;34m'font'\u001b[0m\u001b[0;34m,\u001b[0m \u001b[0msize\u001b[0m\u001b[0;34m=\u001b[0m\u001b[0;36m12\u001b[0m\u001b[0;34m)\u001b[0m              \u001b[0;31m# fontsize of the leaf and node labels\u001b[0m\u001b[0;34m\u001b[0m\u001b[0;34m\u001b[0m\u001b[0m\n",
            "\u001b[0;32m/usr/local/lib/python3.10/dist-packages/Bio/Phylo/_io.py\u001b[0m in \u001b[0;36mread\u001b[0;34m(file, format, **kwargs)\u001b[0m\n\u001b[1;32m     58\u001b[0m     \u001b[0;32mtry\u001b[0m\u001b[0;34m:\u001b[0m\u001b[0;34m\u001b[0m\u001b[0;34m\u001b[0m\u001b[0m\n\u001b[1;32m     59\u001b[0m         \u001b[0mtree_gen\u001b[0m \u001b[0;34m=\u001b[0m \u001b[0mparse\u001b[0m\u001b[0;34m(\u001b[0m\u001b[0mfile\u001b[0m\u001b[0;34m,\u001b[0m \u001b[0mformat\u001b[0m\u001b[0;34m,\u001b[0m \u001b[0;34m**\u001b[0m\u001b[0mkwargs\u001b[0m\u001b[0;34m)\u001b[0m\u001b[0;34m\u001b[0m\u001b[0;34m\u001b[0m\u001b[0m\n\u001b[0;32m---> 60\u001b[0;31m         \u001b[0mtree\u001b[0m \u001b[0;34m=\u001b[0m \u001b[0mnext\u001b[0m\u001b[0;34m(\u001b[0m\u001b[0mtree_gen\u001b[0m\u001b[0;34m)\u001b[0m\u001b[0;34m\u001b[0m\u001b[0;34m\u001b[0m\u001b[0m\n\u001b[0m\u001b[1;32m     61\u001b[0m     \u001b[0;32mexcept\u001b[0m \u001b[0mStopIteration\u001b[0m\u001b[0;34m:\u001b[0m\u001b[0;34m\u001b[0m\u001b[0;34m\u001b[0m\u001b[0m\n\u001b[1;32m     62\u001b[0m         \u001b[0;32mraise\u001b[0m \u001b[0mValueError\u001b[0m\u001b[0;34m(\u001b[0m\u001b[0;34m\"There are no trees in this file.\"\u001b[0m\u001b[0;34m)\u001b[0m \u001b[0;32mfrom\u001b[0m \u001b[0;32mNone\u001b[0m\u001b[0;34m\u001b[0m\u001b[0;34m\u001b[0m\u001b[0m\n",
            "\u001b[0;32m/usr/local/lib/python3.10/dist-packages/Bio/Phylo/_io.py\u001b[0m in \u001b[0;36mparse\u001b[0;34m(file, format, **kwargs)\u001b[0m\n\u001b[1;32m     46\u001b[0m \u001b[0;34m\u001b[0m\u001b[0m\n\u001b[1;32m     47\u001b[0m     \"\"\"\n\u001b[0;32m---> 48\u001b[0;31m     \u001b[0;32mwith\u001b[0m \u001b[0mFile\u001b[0m\u001b[0;34m.\u001b[0m\u001b[0mas_handle\u001b[0m\u001b[0;34m(\u001b[0m\u001b[0mfile\u001b[0m\u001b[0;34m)\u001b[0m \u001b[0;32mas\u001b[0m \u001b[0mfp\u001b[0m\u001b[0;34m:\u001b[0m\u001b[0;34m\u001b[0m\u001b[0;34m\u001b[0m\u001b[0m\n\u001b[0m\u001b[1;32m     49\u001b[0m         \u001b[0;32myield\u001b[0m \u001b[0;32mfrom\u001b[0m \u001b[0mgetattr\u001b[0m\u001b[0;34m(\u001b[0m\u001b[0msupported_formats\u001b[0m\u001b[0;34m[\u001b[0m\u001b[0mformat\u001b[0m\u001b[0;34m]\u001b[0m\u001b[0;34m,\u001b[0m \u001b[0;34m\"parse\"\u001b[0m\u001b[0;34m)\u001b[0m\u001b[0;34m(\u001b[0m\u001b[0mfp\u001b[0m\u001b[0;34m,\u001b[0m \u001b[0;34m**\u001b[0m\u001b[0mkwargs\u001b[0m\u001b[0;34m)\u001b[0m\u001b[0;34m\u001b[0m\u001b[0;34m\u001b[0m\u001b[0m\n\u001b[1;32m     50\u001b[0m \u001b[0;34m\u001b[0m\u001b[0m\n",
            "\u001b[0;32m/usr/lib/python3.10/contextlib.py\u001b[0m in \u001b[0;36m__enter__\u001b[0;34m(self)\u001b[0m\n\u001b[1;32m    133\u001b[0m         \u001b[0;32mdel\u001b[0m \u001b[0mself\u001b[0m\u001b[0;34m.\u001b[0m\u001b[0margs\u001b[0m\u001b[0;34m,\u001b[0m \u001b[0mself\u001b[0m\u001b[0;34m.\u001b[0m\u001b[0mkwds\u001b[0m\u001b[0;34m,\u001b[0m \u001b[0mself\u001b[0m\u001b[0;34m.\u001b[0m\u001b[0mfunc\u001b[0m\u001b[0;34m\u001b[0m\u001b[0;34m\u001b[0m\u001b[0m\n\u001b[1;32m    134\u001b[0m         \u001b[0;32mtry\u001b[0m\u001b[0;34m:\u001b[0m\u001b[0;34m\u001b[0m\u001b[0;34m\u001b[0m\u001b[0m\n\u001b[0;32m--> 135\u001b[0;31m             \u001b[0;32mreturn\u001b[0m \u001b[0mnext\u001b[0m\u001b[0;34m(\u001b[0m\u001b[0mself\u001b[0m\u001b[0;34m.\u001b[0m\u001b[0mgen\u001b[0m\u001b[0;34m)\u001b[0m\u001b[0;34m\u001b[0m\u001b[0;34m\u001b[0m\u001b[0m\n\u001b[0m\u001b[1;32m    136\u001b[0m         \u001b[0;32mexcept\u001b[0m \u001b[0mStopIteration\u001b[0m\u001b[0;34m:\u001b[0m\u001b[0;34m\u001b[0m\u001b[0;34m\u001b[0m\u001b[0m\n\u001b[1;32m    137\u001b[0m             \u001b[0;32mraise\u001b[0m \u001b[0mRuntimeError\u001b[0m\u001b[0;34m(\u001b[0m\u001b[0;34m\"generator didn't yield\"\u001b[0m\u001b[0;34m)\u001b[0m \u001b[0;32mfrom\u001b[0m \u001b[0;32mNone\u001b[0m\u001b[0;34m\u001b[0m\u001b[0;34m\u001b[0m\u001b[0m\n",
            "\u001b[0;32m/usr/local/lib/python3.10/dist-packages/Bio/File.py\u001b[0m in \u001b[0;36mas_handle\u001b[0;34m(handleish, mode, **kwargs)\u001b[0m\n\u001b[1;32m     70\u001b[0m     \"\"\"\n\u001b[1;32m     71\u001b[0m     \u001b[0;32mtry\u001b[0m\u001b[0;34m:\u001b[0m\u001b[0;34m\u001b[0m\u001b[0;34m\u001b[0m\u001b[0m\n\u001b[0;32m---> 72\u001b[0;31m         \u001b[0;32mwith\u001b[0m \u001b[0mopen\u001b[0m\u001b[0;34m(\u001b[0m\u001b[0mhandleish\u001b[0m\u001b[0;34m,\u001b[0m \u001b[0mmode\u001b[0m\u001b[0;34m,\u001b[0m \u001b[0;34m**\u001b[0m\u001b[0mkwargs\u001b[0m\u001b[0;34m)\u001b[0m \u001b[0;32mas\u001b[0m \u001b[0mfp\u001b[0m\u001b[0;34m:\u001b[0m\u001b[0;34m\u001b[0m\u001b[0;34m\u001b[0m\u001b[0m\n\u001b[0m\u001b[1;32m     73\u001b[0m             \u001b[0;32myield\u001b[0m \u001b[0mfp\u001b[0m\u001b[0;34m\u001b[0m\u001b[0;34m\u001b[0m\u001b[0m\n\u001b[1;32m     74\u001b[0m     \u001b[0;32mexcept\u001b[0m \u001b[0mTypeError\u001b[0m\u001b[0;34m:\u001b[0m\u001b[0;34m\u001b[0m\u001b[0;34m\u001b[0m\u001b[0m\n",
            "\u001b[0;31mFileNotFoundError\u001b[0m: [Errno 2] No such file or directory: 'upgma-waterfrog_edited.nex'"
          ]
        }
      ]
    }
  ],
  "metadata": {
    "kernelspec": {
      "display_name": "Python 3",
      "language": "python",
      "name": "python3"
    },
    "language_info": {
      "codemirror_mode": {
        "name": "ipython",
        "version": 3
      },
      "file_extension": ".py",
      "mimetype": "text/x-python",
      "name": "python",
      "nbconvert_exporter": "python",
      "pygments_lexer": "ipython3",
      "version": "3.8.3"
    },
    "colab": {
      "provenance": []
    }
  },
  "nbformat": 4,
  "nbformat_minor": 0
}